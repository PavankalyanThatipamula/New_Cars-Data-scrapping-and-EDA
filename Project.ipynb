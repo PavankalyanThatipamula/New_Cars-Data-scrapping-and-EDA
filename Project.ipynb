{
 "cells": [
  {
   "cell_type": "code",
   "execution_count": 5,
   "id": "b8705d41",
   "metadata": {},
   "outputs": [],
   "source": [
    "import requests\n",
    "from bs4 import BeautifulSoup\n",
    "import re\n",
    "import numpy as np\n",
    "import pandas as pd"
   ]
  },
  {
   "cell_type": "code",
   "execution_count": 127,
   "id": "562507c6",
   "metadata": {},
   "outputs": [],
   "source": [
    "brand=[]\n",
    "Type = []\n",
    "seater =[]\n",
    "transmission = []\n",
    "fuel_type =[]\n",
    "price =[]\n",
    "model=[]\n",
    "color =[]\n",
    "for k in range(1,6):\n",
    "    url = f\"https://ackodrive.com/page/{k}/\"\n",
    "    page = requests.get(url)\n",
    "\n",
    "    soup = BeautifulSoup(page.text)\n",
    "    \n",
    "\n",
    "    for i in soup.find_all(\"h3\",class_=\"styles__ModelTitle-sc-ff1d2337-4 fxObep\"):\n",
    "        regex = re.findall(\"\\w+\",i.text)\n",
    "        if regex:\n",
    "            brand.append(regex[0])\n",
    "        else:\n",
    "            brand.append(np.nan)\n",
    "    container = soup.find_all(\"div\",class_=\"styles__ModelDetails-sc-ff1d2337-0 boUQQf\")\n",
    "    for i in container:\n",
    "        a = i.find(\"p\",class_=\"styles__ParaWithoutMargins-sc-ff1d2337-33 cvFhPe\")\n",
    "        if a:\n",
    "            Type.append(a.text)\n",
    "        else:\n",
    "            Type.append(np.nan)\n",
    "    for i in soup.find_all(\"div\",class_=\"styles__ModelInfo-sc-ff1d2337-8 dOovcw\"):\n",
    "        #print(i.text)\n",
    "        regex = re.findall(\"\\w+(\\d)\",i.text)\n",
    "        #print(regex[0])\n",
    "        if regex:\n",
    "            seater.append(regex[0])\n",
    "        else:\n",
    "            seater.append(np.nan)     \n",
    "    for i in soup.find_all(\"div\",class_=\"styles__VariantInfo-sc-ff1d2337-12 ftPSTe\"):\n",
    "        #print(i.text)\n",
    "        regex = re.findall(\"(Petrol|Diesel|Electric)\",i.text)\n",
    "        #print(regex[0])\n",
    "        if regex:\n",
    "            fuel_type.append(regex[0])\n",
    "        else:\n",
    "            fuel_type.append(np.nan)    \n",
    "    for i in soup.find_all(\"div\",class_=\"styles__VariantInfo-sc-ff1d2337-12 ftPSTe\"):\n",
    "       # print(i.text)\n",
    "        regex = re.findall(\"(Automatic|Manual)\",i.text)\n",
    "        #print(regex[0])\n",
    "        if regex:\n",
    "            transmission.append(regex[0])\n",
    "        else:\n",
    "            transmission.append(np.nan) \n",
    "    for i in soup.find_all(\"span\",class_=\"styles__ModelName-sc-ff1d2337-6 kXOqdu\"):\n",
    "        #print(i.text)\n",
    "        a = i.text\n",
    "        if a:\n",
    "            model.append(a)\n",
    "        else:\n",
    "            model.append(np.nan)  \n",
    "    for i in soup.find_all(\"div\",class_=\"styles__Price-sc-ff1d2337-18 CHHgf\"):\n",
    "        #print(i.text)\n",
    "        regex = re.findall(\"₹(\\d+?.\\d+)\",i.text)\n",
    "        #print(regex[0])\n",
    "        if regex:\n",
    "            price.append(regex[0])\n",
    "        else:\n",
    "            price.append(np.nan)        \n",
    "    for i in soup.find_all(\"div\",class_=\"styles__VariantInfo-sc-ff1d2337-12 ftPSTe\"):\n",
    "        #print(i.text)\n",
    "        regex = re.findall(\"\\d+\",i.text)\n",
    "        #print(regex[0])\n",
    "        if regex:\n",
    "            color.append(regex[0])\n",
    "        else:\n",
    "            color.append(np.nan)            "
   ]
  },
  {
   "cell_type": "code",
   "execution_count": null,
   "id": "995e1c5a",
   "metadata": {},
   "outputs": [],
   "source": []
  },
  {
   "cell_type": "code",
   "execution_count": null,
   "id": "8c2bbbfb",
   "metadata": {},
   "outputs": [],
   "source": []
  },
  {
   "cell_type": "code",
   "execution_count": null,
   "id": "1cdbfa4e",
   "metadata": {},
   "outputs": [],
   "source": []
  },
  {
   "cell_type": "code",
   "execution_count": null,
   "id": "6d653207",
   "metadata": {},
   "outputs": [],
   "source": []
  },
  {
   "cell_type": "code",
   "execution_count": null,
   "id": "544f2df4",
   "metadata": {},
   "outputs": [],
   "source": []
  },
  {
   "cell_type": "code",
   "execution_count": null,
   "id": "4b08175a",
   "metadata": {},
   "outputs": [],
   "source": []
  },
  {
   "cell_type": "code",
   "execution_count": null,
   "id": "cfd36ed1",
   "metadata": {},
   "outputs": [],
   "source": []
  },
  {
   "cell_type": "code",
   "execution_count": null,
   "id": "a105f015",
   "metadata": {},
   "outputs": [],
   "source": []
  },
  {
   "cell_type": "code",
   "execution_count": 83,
   "id": "b8b47ce0",
   "metadata": {},
   "outputs": [],
   "source": [
    "dict1 = {\"Brand\":brand,\"Model\":model,\"Transmission\":transmission,\"Fuel_Type\":fuel_type,\"Type\":Type,\"Seater\":seater,\"Price\":price,\"Color_Avaliable\":color}"
   ]
  },
  {
   "cell_type": "code",
   "execution_count": 84,
   "id": "58760734",
   "metadata": {},
   "outputs": [
    {
     "data": {
      "text/html": [
       "<div>\n",
       "<style scoped>\n",
       "    .dataframe tbody tr th:only-of-type {\n",
       "        vertical-align: middle;\n",
       "    }\n",
       "\n",
       "    .dataframe tbody tr th {\n",
       "        vertical-align: top;\n",
       "    }\n",
       "\n",
       "    .dataframe thead th {\n",
       "        text-align: right;\n",
       "    }\n",
       "</style>\n",
       "<table border=\"1\" class=\"dataframe\">\n",
       "  <thead>\n",
       "    <tr style=\"text-align: right;\">\n",
       "      <th></th>\n",
       "      <th>Brand</th>\n",
       "      <th>Model</th>\n",
       "      <th>Transmission</th>\n",
       "      <th>Fuel_Type</th>\n",
       "      <th>Type</th>\n",
       "      <th>Seater</th>\n",
       "      <th>Price</th>\n",
       "      <th>Color_Avaliable</th>\n",
       "    </tr>\n",
       "  </thead>\n",
       "  <tbody>\n",
       "    <tr>\n",
       "      <th>0</th>\n",
       "      <td>Tata</td>\n",
       "      <td>Nexon</td>\n",
       "      <td>Manual</td>\n",
       "      <td>Petrol</td>\n",
       "      <td>SUV</td>\n",
       "      <td>5</td>\n",
       "      <td>9.01</td>\n",
       "      <td>3</td>\n",
       "    </tr>\n",
       "    <tr>\n",
       "      <th>1</th>\n",
       "      <td>Maruti</td>\n",
       "      <td>Baleno</td>\n",
       "      <td>Manual</td>\n",
       "      <td>Petrol</td>\n",
       "      <td>Hatchback</td>\n",
       "      <td>5</td>\n",
       "      <td>7.42</td>\n",
       "      <td>6</td>\n",
       "    </tr>\n",
       "    <tr>\n",
       "      <th>2</th>\n",
       "      <td>Tata</td>\n",
       "      <td>Punch</td>\n",
       "      <td>Manual</td>\n",
       "      <td>Petrol</td>\n",
       "      <td>SUV</td>\n",
       "      <td>5</td>\n",
       "      <td>6.60</td>\n",
       "      <td>2</td>\n",
       "    </tr>\n",
       "    <tr>\n",
       "      <th>3</th>\n",
       "      <td>Hyundai</td>\n",
       "      <td>Grand i10 Nios</td>\n",
       "      <td>Manual</td>\n",
       "      <td>Petrol</td>\n",
       "      <td>Hatchback</td>\n",
       "      <td>5</td>\n",
       "      <td>6.11</td>\n",
       "      <td>2</td>\n",
       "    </tr>\n",
       "    <tr>\n",
       "      <th>4</th>\n",
       "      <td>Hyundai</td>\n",
       "      <td>Aura</td>\n",
       "      <td>Manual</td>\n",
       "      <td>Petrol</td>\n",
       "      <td>Sedan</td>\n",
       "      <td>5</td>\n",
       "      <td>8.08</td>\n",
       "      <td>6</td>\n",
       "    </tr>\n",
       "    <tr>\n",
       "      <th>...</th>\n",
       "      <td>...</td>\n",
       "      <td>...</td>\n",
       "      <td>...</td>\n",
       "      <td>...</td>\n",
       "      <td>...</td>\n",
       "      <td>...</td>\n",
       "      <td>...</td>\n",
       "      <td>...</td>\n",
       "    </tr>\n",
       "    <tr>\n",
       "      <th>59</th>\n",
       "      <td>Citroen</td>\n",
       "      <td>E-C3</td>\n",
       "      <td>Automatic</td>\n",
       "      <td>Electric</td>\n",
       "      <td>SUV</td>\n",
       "      <td>5</td>\n",
       "      <td>12.91</td>\n",
       "      <td>4</td>\n",
       "    </tr>\n",
       "    <tr>\n",
       "      <th>60</th>\n",
       "      <td>MG</td>\n",
       "      <td>Astor</td>\n",
       "      <td>Manual</td>\n",
       "      <td>Petrol</td>\n",
       "      <td>SUV</td>\n",
       "      <td>5</td>\n",
       "      <td>12.25</td>\n",
       "      <td>2</td>\n",
       "    </tr>\n",
       "    <tr>\n",
       "      <th>61</th>\n",
       "      <td>MG</td>\n",
       "      <td>Hector</td>\n",
       "      <td>Automatic</td>\n",
       "      <td>Petrol</td>\n",
       "      <td>SUV</td>\n",
       "      <td>5</td>\n",
       "      <td>24.21</td>\n",
       "      <td>13</td>\n",
       "    </tr>\n",
       "    <tr>\n",
       "      <th>62</th>\n",
       "      <td>MG</td>\n",
       "      <td>Hector Plus</td>\n",
       "      <td>Manual</td>\n",
       "      <td>Petrol</td>\n",
       "      <td>SUV</td>\n",
       "      <td>6</td>\n",
       "      <td>20.64</td>\n",
       "      <td>5</td>\n",
       "    </tr>\n",
       "    <tr>\n",
       "      <th>63</th>\n",
       "      <td>Maruti</td>\n",
       "      <td>Fronx</td>\n",
       "      <td>Manual</td>\n",
       "      <td>Petrol</td>\n",
       "      <td>SUV</td>\n",
       "      <td>5</td>\n",
       "      <td>8.44</td>\n",
       "      <td>7</td>\n",
       "    </tr>\n",
       "  </tbody>\n",
       "</table>\n",
       "<p>64 rows × 8 columns</p>\n",
       "</div>"
      ],
      "text/plain": [
       "      Brand           Model Transmission Fuel_Type       Type Seater  Price  \\\n",
       "0      Tata           Nexon       Manual    Petrol        SUV      5   9.01   \n",
       "1    Maruti          Baleno       Manual    Petrol  Hatchback      5   7.42   \n",
       "2      Tata           Punch       Manual    Petrol        SUV      5   6.60   \n",
       "3   Hyundai  Grand i10 Nios       Manual    Petrol  Hatchback      5   6.11   \n",
       "4   Hyundai            Aura       Manual    Petrol      Sedan      5   8.08   \n",
       "..      ...             ...          ...       ...        ...    ...    ...   \n",
       "59  Citroen            E-C3    Automatic  Electric        SUV      5  12.91   \n",
       "60       MG           Astor       Manual    Petrol        SUV      5  12.25   \n",
       "61       MG          Hector    Automatic    Petrol        SUV      5  24.21   \n",
       "62       MG     Hector Plus       Manual    Petrol        SUV      6  20.64   \n",
       "63   Maruti           Fronx       Manual    Petrol        SUV      5   8.44   \n",
       "\n",
       "   Color_Avaliable  \n",
       "0                3  \n",
       "1                6  \n",
       "2                2  \n",
       "3                2  \n",
       "4                6  \n",
       "..             ...  \n",
       "59               4  \n",
       "60               2  \n",
       "61              13  \n",
       "62               5  \n",
       "63               7  \n",
       "\n",
       "[64 rows x 8 columns]"
      ]
     },
     "execution_count": 84,
     "metadata": {},
     "output_type": "execute_result"
    }
   ],
   "source": [
    "df = pd.DataFrame(dict1)\n",
    "df"
   ]
  },
  {
   "cell_type": "code",
   "execution_count": 85,
   "id": "515a40c6",
   "metadata": {},
   "outputs": [
    {
     "name": "stdout",
     "output_type": "stream",
     "text": [
      "<class 'pandas.core.frame.DataFrame'>\n",
      "RangeIndex: 64 entries, 0 to 63\n",
      "Data columns (total 8 columns):\n",
      " #   Column           Non-Null Count  Dtype \n",
      "---  ------           --------------  ----- \n",
      " 0   Brand            64 non-null     object\n",
      " 1   Model            64 non-null     object\n",
      " 2   Transmission     64 non-null     object\n",
      " 3   Fuel_Type        62 non-null     object\n",
      " 4   Type             64 non-null     object\n",
      " 5   Seater           64 non-null     object\n",
      " 6   Price            64 non-null     object\n",
      " 7   Color_Avaliable  64 non-null     object\n",
      "dtypes: object(8)\n",
      "memory usage: 4.1+ KB\n"
     ]
    }
   ],
   "source": [
    "df.info()"
   ]
  },
  {
   "cell_type": "code",
   "execution_count": 87,
   "id": "513ed79b",
   "metadata": {},
   "outputs": [],
   "source": [
    "df.to_csv(\"New_cars.csv\")"
   ]
  },
  {
   "cell_type": "code",
   "execution_count": 88,
   "id": "87bb8edb",
   "metadata": {},
   "outputs": [],
   "source": [
    "df1 = pd.read_csv(\"New_cars.csv\")"
   ]
  },
  {
   "cell_type": "code",
   "execution_count": null,
   "id": "7ea3c4b2",
   "metadata": {},
   "outputs": [],
   "source": []
  },
  {
   "cell_type": "code",
   "execution_count": 89,
   "id": "8b996056",
   "metadata": {},
   "outputs": [
    {
     "data": {
      "text/html": [
       "<div>\n",
       "<style scoped>\n",
       "    .dataframe tbody tr th:only-of-type {\n",
       "        vertical-align: middle;\n",
       "    }\n",
       "\n",
       "    .dataframe tbody tr th {\n",
       "        vertical-align: top;\n",
       "    }\n",
       "\n",
       "    .dataframe thead th {\n",
       "        text-align: right;\n",
       "    }\n",
       "</style>\n",
       "<table border=\"1\" class=\"dataframe\">\n",
       "  <thead>\n",
       "    <tr style=\"text-align: right;\">\n",
       "      <th></th>\n",
       "      <th>Unnamed: 0</th>\n",
       "      <th>Brand</th>\n",
       "      <th>Model</th>\n",
       "      <th>Transmission</th>\n",
       "      <th>Fuel_Type</th>\n",
       "      <th>Type</th>\n",
       "      <th>Seater</th>\n",
       "      <th>Price</th>\n",
       "      <th>Color_Avaliable</th>\n",
       "    </tr>\n",
       "  </thead>\n",
       "  <tbody>\n",
       "    <tr>\n",
       "      <th>0</th>\n",
       "      <td>0</td>\n",
       "      <td>Tata</td>\n",
       "      <td>Nexon</td>\n",
       "      <td>Manual</td>\n",
       "      <td>Petrol</td>\n",
       "      <td>SUV</td>\n",
       "      <td>5</td>\n",
       "      <td>9.01</td>\n",
       "      <td>3</td>\n",
       "    </tr>\n",
       "    <tr>\n",
       "      <th>1</th>\n",
       "      <td>1</td>\n",
       "      <td>Maruti</td>\n",
       "      <td>Baleno</td>\n",
       "      <td>Manual</td>\n",
       "      <td>Petrol</td>\n",
       "      <td>Hatchback</td>\n",
       "      <td>5</td>\n",
       "      <td>7.42</td>\n",
       "      <td>6</td>\n",
       "    </tr>\n",
       "    <tr>\n",
       "      <th>2</th>\n",
       "      <td>2</td>\n",
       "      <td>Tata</td>\n",
       "      <td>Punch</td>\n",
       "      <td>Manual</td>\n",
       "      <td>Petrol</td>\n",
       "      <td>SUV</td>\n",
       "      <td>5</td>\n",
       "      <td>6.60</td>\n",
       "      <td>2</td>\n",
       "    </tr>\n",
       "    <tr>\n",
       "      <th>3</th>\n",
       "      <td>3</td>\n",
       "      <td>Hyundai</td>\n",
       "      <td>Grand i10 Nios</td>\n",
       "      <td>Manual</td>\n",
       "      <td>Petrol</td>\n",
       "      <td>Hatchback</td>\n",
       "      <td>5</td>\n",
       "      <td>6.11</td>\n",
       "      <td>2</td>\n",
       "    </tr>\n",
       "    <tr>\n",
       "      <th>4</th>\n",
       "      <td>4</td>\n",
       "      <td>Hyundai</td>\n",
       "      <td>Aura</td>\n",
       "      <td>Manual</td>\n",
       "      <td>Petrol</td>\n",
       "      <td>Sedan</td>\n",
       "      <td>5</td>\n",
       "      <td>8.08</td>\n",
       "      <td>6</td>\n",
       "    </tr>\n",
       "    <tr>\n",
       "      <th>...</th>\n",
       "      <td>...</td>\n",
       "      <td>...</td>\n",
       "      <td>...</td>\n",
       "      <td>...</td>\n",
       "      <td>...</td>\n",
       "      <td>...</td>\n",
       "      <td>...</td>\n",
       "      <td>...</td>\n",
       "      <td>...</td>\n",
       "    </tr>\n",
       "    <tr>\n",
       "      <th>59</th>\n",
       "      <td>59</td>\n",
       "      <td>Citroen</td>\n",
       "      <td>E-C3</td>\n",
       "      <td>Automatic</td>\n",
       "      <td>Electric</td>\n",
       "      <td>SUV</td>\n",
       "      <td>5</td>\n",
       "      <td>12.91</td>\n",
       "      <td>4</td>\n",
       "    </tr>\n",
       "    <tr>\n",
       "      <th>60</th>\n",
       "      <td>60</td>\n",
       "      <td>MG</td>\n",
       "      <td>Astor</td>\n",
       "      <td>Manual</td>\n",
       "      <td>Petrol</td>\n",
       "      <td>SUV</td>\n",
       "      <td>5</td>\n",
       "      <td>12.25</td>\n",
       "      <td>2</td>\n",
       "    </tr>\n",
       "    <tr>\n",
       "      <th>61</th>\n",
       "      <td>61</td>\n",
       "      <td>MG</td>\n",
       "      <td>Hector</td>\n",
       "      <td>Automatic</td>\n",
       "      <td>Petrol</td>\n",
       "      <td>SUV</td>\n",
       "      <td>5</td>\n",
       "      <td>24.21</td>\n",
       "      <td>13</td>\n",
       "    </tr>\n",
       "    <tr>\n",
       "      <th>62</th>\n",
       "      <td>62</td>\n",
       "      <td>MG</td>\n",
       "      <td>Hector Plus</td>\n",
       "      <td>Manual</td>\n",
       "      <td>Petrol</td>\n",
       "      <td>SUV</td>\n",
       "      <td>6</td>\n",
       "      <td>20.64</td>\n",
       "      <td>5</td>\n",
       "    </tr>\n",
       "    <tr>\n",
       "      <th>63</th>\n",
       "      <td>63</td>\n",
       "      <td>Maruti</td>\n",
       "      <td>Fronx</td>\n",
       "      <td>Manual</td>\n",
       "      <td>Petrol</td>\n",
       "      <td>SUV</td>\n",
       "      <td>5</td>\n",
       "      <td>8.44</td>\n",
       "      <td>7</td>\n",
       "    </tr>\n",
       "  </tbody>\n",
       "</table>\n",
       "<p>64 rows × 9 columns</p>\n",
       "</div>"
      ],
      "text/plain": [
       "    Unnamed: 0    Brand           Model Transmission Fuel_Type       Type  \\\n",
       "0            0     Tata           Nexon       Manual    Petrol        SUV   \n",
       "1            1   Maruti          Baleno       Manual    Petrol  Hatchback   \n",
       "2            2     Tata           Punch       Manual    Petrol        SUV   \n",
       "3            3  Hyundai  Grand i10 Nios       Manual    Petrol  Hatchback   \n",
       "4            4  Hyundai            Aura       Manual    Petrol      Sedan   \n",
       "..         ...      ...             ...          ...       ...        ...   \n",
       "59          59  Citroen            E-C3    Automatic  Electric        SUV   \n",
       "60          60       MG           Astor       Manual    Petrol        SUV   \n",
       "61          61       MG          Hector    Automatic    Petrol        SUV   \n",
       "62          62       MG     Hector Plus       Manual    Petrol        SUV   \n",
       "63          63   Maruti           Fronx       Manual    Petrol        SUV   \n",
       "\n",
       "    Seater  Price  Color_Avaliable  \n",
       "0        5   9.01                3  \n",
       "1        5   7.42                6  \n",
       "2        5   6.60                2  \n",
       "3        5   6.11                2  \n",
       "4        5   8.08                6  \n",
       "..     ...    ...              ...  \n",
       "59       5  12.91                4  \n",
       "60       5  12.25                2  \n",
       "61       5  24.21               13  \n",
       "62       6  20.64                5  \n",
       "63       5   8.44                7  \n",
       "\n",
       "[64 rows x 9 columns]"
      ]
     },
     "execution_count": 89,
     "metadata": {},
     "output_type": "execute_result"
    }
   ],
   "source": [
    "df1"
   ]
  },
  {
   "cell_type": "code",
   "execution_count": null,
   "id": "150b384c",
   "metadata": {},
   "outputs": [],
   "source": []
  },
  {
   "cell_type": "code",
   "execution_count": null,
   "id": "bcece795",
   "metadata": {},
   "outputs": [],
   "source": []
  },
  {
   "cell_type": "code",
   "execution_count": null,
   "id": "1e3e6fae",
   "metadata": {},
   "outputs": [],
   "source": []
  },
  {
   "cell_type": "code",
   "execution_count": 93,
   "id": "8d54949b",
   "metadata": {},
   "outputs": [
    {
     "data": {
      "text/plain": [
       "64"
      ]
     },
     "execution_count": 93,
     "metadata": {},
     "output_type": "execute_result"
    }
   ],
   "source": [
    "len(Type)"
   ]
  },
  {
   "cell_type": "code",
   "execution_count": 94,
   "id": "03858144",
   "metadata": {},
   "outputs": [
    {
     "data": {
      "text/plain": [
       "64"
      ]
     },
     "execution_count": 94,
     "metadata": {},
     "output_type": "execute_result"
    }
   ],
   "source": [
    "len(brand)"
   ]
  },
  {
   "cell_type": "code",
   "execution_count": 95,
   "id": "274e4ee1",
   "metadata": {},
   "outputs": [
    {
     "data": {
      "text/plain": [
       "64"
      ]
     },
     "execution_count": 95,
     "metadata": {},
     "output_type": "execute_result"
    }
   ],
   "source": [
    "len(seater)"
   ]
  },
  {
   "cell_type": "code",
   "execution_count": 96,
   "id": "dd2d2166",
   "metadata": {},
   "outputs": [
    {
     "data": {
      "text/plain": [
       "64"
      ]
     },
     "execution_count": 96,
     "metadata": {},
     "output_type": "execute_result"
    }
   ],
   "source": [
    "len(transmission)"
   ]
  },
  {
   "cell_type": "code",
   "execution_count": 97,
   "id": "3d06d2b0",
   "metadata": {},
   "outputs": [
    {
     "data": {
      "text/plain": [
       "64"
      ]
     },
     "execution_count": 97,
     "metadata": {},
     "output_type": "execute_result"
    }
   ],
   "source": [
    "len(fuel_type)"
   ]
  },
  {
   "cell_type": "code",
   "execution_count": 98,
   "id": "6612ff08",
   "metadata": {},
   "outputs": [
    {
     "data": {
      "text/plain": [
       "64"
      ]
     },
     "execution_count": 98,
     "metadata": {},
     "output_type": "execute_result"
    }
   ],
   "source": [
    "len(model)"
   ]
  },
  {
   "cell_type": "code",
   "execution_count": 99,
   "id": "a7e4b269",
   "metadata": {},
   "outputs": [
    {
     "data": {
      "text/plain": [
       "64"
      ]
     },
     "execution_count": 99,
     "metadata": {},
     "output_type": "execute_result"
    }
   ],
   "source": [
    "len(price)"
   ]
  },
  {
   "cell_type": "code",
   "execution_count": 100,
   "id": "0aff25a3",
   "metadata": {},
   "outputs": [
    {
     "data": {
      "text/plain": [
       "64"
      ]
     },
     "execution_count": 100,
     "metadata": {},
     "output_type": "execute_result"
    }
   ],
   "source": [
    "len(color)"
   ]
  },
  {
   "cell_type": "code",
   "execution_count": 101,
   "id": "d99cd74f",
   "metadata": {},
   "outputs": [
    {
     "data": {
      "text/plain": [
       "['3',\n",
       " '6',\n",
       " '2',\n",
       " '2',\n",
       " '6',\n",
       " '3',\n",
       " '5',\n",
       " '6',\n",
       " '3',\n",
       " '4',\n",
       " '4',\n",
       " '6',\n",
       " '6',\n",
       " '4',\n",
       " '6',\n",
       " '7',\n",
       " '4',\n",
       " '5',\n",
       " '5',\n",
       " '6',\n",
       " '5',\n",
       " '2',\n",
       " '9',\n",
       " '5',\n",
       " '3',\n",
       " '6',\n",
       " '6',\n",
       " '3',\n",
       " '6',\n",
       " '6',\n",
       " '6',\n",
       " '6',\n",
       " '5',\n",
       " '6',\n",
       " '4',\n",
       " '4',\n",
       " '7',\n",
       " '1',\n",
       " '5',\n",
       " '4',\n",
       " '5',\n",
       " '3',\n",
       " '3',\n",
       " '4',\n",
       " '10',\n",
       " '3',\n",
       " '5',\n",
       " '7',\n",
       " '4',\n",
       " '6',\n",
       " '1',\n",
       " '2',\n",
       " '7',\n",
       " '2',\n",
       " '2',\n",
       " '4',\n",
       " '5',\n",
       " '5',\n",
       " '1',\n",
       " '4',\n",
       " '2',\n",
       " '13',\n",
       " '5',\n",
       " '7']"
      ]
     },
     "execution_count": 101,
     "metadata": {},
     "output_type": "execute_result"
    }
   ],
   "source": [
    "color"
   ]
  },
  {
   "cell_type": "code",
   "execution_count": 102,
   "id": "c6889b68",
   "metadata": {},
   "outputs": [
    {
     "data": {
      "text/plain": [
       "['9.01',\n",
       " '7.42',\n",
       " '6.60',\n",
       " '6.11',\n",
       " '8.08',\n",
       " '5.92',\n",
       " '8.39',\n",
       " '6.45',\n",
       " '6.00',\n",
       " '7.37',\n",
       " '6.94',\n",
       " '5.68',\n",
       " '7.35',\n",
       " '13.36',\n",
       " '12.70',\n",
       " '10.39',\n",
       " '7.44',\n",
       " '8.06',\n",
       " '5.85',\n",
       " '23.16',\n",
       " '7.95',\n",
       " '15.24',\n",
       " '13.83',\n",
       " '7.70',\n",
       " '6.71',\n",
       " '12.63',\n",
       " '13.34',\n",
       " '18.35',\n",
       " '10.13',\n",
       " '12.50',\n",
       " '5.30',\n",
       " '5.07',\n",
       " '14.72',\n",
       " '16.51',\n",
       " '7.38',\n",
       " '16.14',\n",
       " '25.59',\n",
       " '9.25',\n",
       " '33.30',\n",
       " '17.18',\n",
       " '6.07',\n",
       " '12.88',\n",
       " '13.17',\n",
       " '8.75',\n",
       " '20.21',\n",
       " '16.34',\n",
       " '14.67',\n",
       " '44.82',\n",
       " '38.41',\n",
       " '9.10',\n",
       " '18.14',\n",
       " '24.57',\n",
       " '12.73',\n",
       " '12.63',\n",
       " '12.07',\n",
       " '6.98',\n",
       " '15.40',\n",
       " '13.08',\n",
       " '44.47',\n",
       " '12.91',\n",
       " '12.25',\n",
       " '24.21',\n",
       " '20.64',\n",
       " '8.44']"
      ]
     },
     "execution_count": 102,
     "metadata": {},
     "output_type": "execute_result"
    }
   ],
   "source": [
    "price"
   ]
  },
  {
   "cell_type": "code",
   "execution_count": 110,
   "id": "02e787ab",
   "metadata": {},
   "outputs": [
    {
     "data": {
      "text/plain": [
       "['Nexon',\n",
       " 'Baleno',\n",
       " 'Punch',\n",
       " 'Grand i10 Nios',\n",
       " 'Aura',\n",
       " 'Wagon R',\n",
       " 'New i20',\n",
       " 'Swift',\n",
       " 'Tiago',\n",
       " 'Altroz',\n",
       " 'Tigor',\n",
       " 'Celerio',\n",
       " 'Dzire',\n",
       " 'City',\n",
       " 'Creta',\n",
       " 'Ciaz',\n",
       " 'Kiger',\n",
       " 'Triber',\n",
       " 'Kwid',\n",
       " 'Alcazar',\n",
       " 'Amaze',\n",
       " 'Nexon EV Prime',\n",
       " 'i20 N Line',\n",
       " 'Glanza',\n",
       " 'Magnite',\n",
       " 'Ertiga',\n",
       " 'XL6',\n",
       " 'Nexon EV Max',\n",
       " 'Venue',\n",
       " 'Brezza',\n",
       " 'S-Presso',\n",
       " 'Alto K10',\n",
       " 'Venue N-Line',\n",
       " 'New Grand Vitara',\n",
       " 'Tiago NRG',\n",
       " 'Marazzo',\n",
       " 'Scorpio-N',\n",
       " 'Tiago EV',\n",
       " 'Tucson',\n",
       " 'XUV700',\n",
       " 'Eeco',\n",
       " 'XUV300',\n",
       " 'Tigor EV',\n",
       " 'Sonet',\n",
       " 'XUV400',\n",
       " 'Scorpio Classic',\n",
       " 'Jimny',\n",
       " 'C5 Aircross',\n",
       " 'Gloster',\n",
       " 'Exter',\n",
       " 'Harrier',\n",
       " 'ZS EV',\n",
       " 'Verna',\n",
       " 'Seltos',\n",
       " 'Carens',\n",
       " 'C3',\n",
       " 'Kushaq',\n",
       " 'Slavia',\n",
       " 'Kodiaq',\n",
       " 'E-C3',\n",
       " 'Astor',\n",
       " 'Hector',\n",
       " 'Hector Plus',\n",
       " 'Fronx']"
      ]
     },
     "execution_count": 110,
     "metadata": {},
     "output_type": "execute_result"
    }
   ],
   "source": [
    "model\n",
    "model1 =model.copy()\n",
    "model1"
   ]
  },
  {
   "cell_type": "code",
   "execution_count": 104,
   "id": "914601e7",
   "metadata": {},
   "outputs": [
    {
     "data": {
      "text/plain": [
       "['Petrol',\n",
       " 'Petrol',\n",
       " 'Petrol',\n",
       " 'Petrol',\n",
       " 'Petrol',\n",
       " 'Petrol',\n",
       " 'Petrol',\n",
       " 'Petrol',\n",
       " 'Petrol',\n",
       " 'Petrol',\n",
       " 'Petrol',\n",
       " 'Petrol',\n",
       " 'Petrol',\n",
       " 'Petrol',\n",
       " 'Petrol',\n",
       " 'Petrol',\n",
       " 'Petrol',\n",
       " 'Petrol',\n",
       " 'Petrol',\n",
       " 'Petrol',\n",
       " 'Petrol',\n",
       " 'Electric',\n",
       " 'Petrol',\n",
       " 'Petrol',\n",
       " 'Petrol',\n",
       " nan,\n",
       " 'Petrol',\n",
       " 'Electric',\n",
       " 'Petrol',\n",
       " nan,\n",
       " 'Petrol',\n",
       " 'Petrol',\n",
       " 'Petrol',\n",
       " 'Petrol',\n",
       " 'Petrol',\n",
       " 'Diesel',\n",
       " 'Petrol',\n",
       " 'Electric',\n",
       " 'Petrol',\n",
       " 'Petrol',\n",
       " 'Petrol',\n",
       " 'Petrol',\n",
       " 'Electric',\n",
       " 'Petrol',\n",
       " 'Electric',\n",
       " 'Diesel',\n",
       " 'Petrol',\n",
       " 'Diesel',\n",
       " 'Diesel',\n",
       " 'Petrol',\n",
       " 'Diesel',\n",
       " 'Electric',\n",
       " 'Petrol',\n",
       " 'Petrol',\n",
       " 'Petrol',\n",
       " 'Petrol',\n",
       " 'Petrol',\n",
       " 'Petrol',\n",
       " 'Petrol',\n",
       " 'Electric',\n",
       " 'Petrol',\n",
       " 'Petrol',\n",
       " 'Petrol',\n",
       " 'Petrol']"
      ]
     },
     "execution_count": 104,
     "metadata": {},
     "output_type": "execute_result"
    }
   ],
   "source": [
    "fuel_type"
   ]
  },
  {
   "cell_type": "code",
   "execution_count": 105,
   "id": "6a50ded8",
   "metadata": {},
   "outputs": [
    {
     "data": {
      "text/plain": [
       "['Manual',\n",
       " 'Manual',\n",
       " 'Manual',\n",
       " 'Manual',\n",
       " 'Manual',\n",
       " 'Manual',\n",
       " 'Manual',\n",
       " 'Manual',\n",
       " 'Manual',\n",
       " 'Manual',\n",
       " 'Manual',\n",
       " 'Manual',\n",
       " 'Manual',\n",
       " 'Manual',\n",
       " 'Manual',\n",
       " 'Manual',\n",
       " 'Manual',\n",
       " 'Manual',\n",
       " 'Manual',\n",
       " 'Automatic',\n",
       " 'Manual',\n",
       " 'Automatic',\n",
       " 'Automatic',\n",
       " 'Manual',\n",
       " 'Manual',\n",
       " 'Manual',\n",
       " 'Manual',\n",
       " 'Automatic',\n",
       " 'Manual',\n",
       " 'Manual',\n",
       " 'Manual',\n",
       " 'Manual',\n",
       " 'Automatic',\n",
       " 'Manual',\n",
       " 'Manual',\n",
       " 'Manual',\n",
       " 'Automatic',\n",
       " 'Automatic',\n",
       " 'Automatic',\n",
       " 'Manual',\n",
       " 'Manual',\n",
       " 'Manual',\n",
       " 'Automatic',\n",
       " 'Manual',\n",
       " 'Automatic',\n",
       " 'Manual',\n",
       " 'Manual',\n",
       " 'Automatic',\n",
       " 'Automatic',\n",
       " 'Automatic',\n",
       " 'Manual',\n",
       " 'Automatic',\n",
       " 'Manual',\n",
       " 'Manual',\n",
       " 'Manual',\n",
       " 'Manual',\n",
       " 'Manual',\n",
       " 'Manual',\n",
       " 'Automatic',\n",
       " 'Automatic',\n",
       " 'Manual',\n",
       " 'Automatic',\n",
       " 'Manual',\n",
       " 'Manual']"
      ]
     },
     "execution_count": 105,
     "metadata": {},
     "output_type": "execute_result"
    }
   ],
   "source": [
    "transmission"
   ]
  },
  {
   "cell_type": "markdown",
   "id": "72b7b10d",
   "metadata": {},
   "source": [
    "cars =['tata-nexon',\n",
    " 'maruti-suzuki-baleno',\n",
    " 'tata-punch',\n",
    " 'hyundai-grand-i10-nios',\n",
    " 'hyundai-aura',\n",
    " 'maruti-suzuki-wagon-r',\n",
    " 'hyundai-new-i20',\n",
    " 'maruti-suzuki-swift',\n",
    " 'tata-tigor',\n",
    " 'tata-altroz',\n",
    " 'tata-tiago',\n",
    " 'hyundai-venue',\n",
    " 'hyundai-creta',\n",
    " 'maruti-suzuki-celerio',\n",
    " 'hyundai-alcazar',\n",
    " 'hyundai-i20-n-line',\n",
    " 'maruti-suzuki-dzire',\n",
    " 'maruti-suzuki-s-presso',\n",
    " 'nissan-magnite',\n",
    " 'maruti-suzuki-brezza',\n",
    " 'maruti-suzuki-brezza',\n",
    " 'skoda-kodiaq',\n",
    " 'honda-amaze',\n",
    " 'honda-city',\n",
    " 'maruti-suzuki-ignis',\n",
    " 'maruti-suzuki-xl6',\n",
    " 'maruti-suzuki-ertiga',\n",
    " 'maruti-suzuki-ciaz',\n",
    " 'tata-nexon-ev-prime',\n",
    " 'tata-tiago-nrg',\n",
    " 'maruti-suzuki-new-grand-vitara',\n",
    " 'tata-nexon-ev-max',\n",
    " 'maruti-suzuki-alto-k10',\n",
    " 'mahindra-marazzo',\n",
    " 'mahindra-bolero',\n",
    " 'mahindra-scorpio-n',\n",
    " 'mahindra-xuv700',\n",
    " 'mahindra-xuv300',\n",
    " 'toyota-urban-cruiser-hyryder',\n",
    " 'toyota-glanza',\n",
    " 'hyundai-tucson',\n",
    " 'tata-tiago-ev',\n",
    " 'tata-tigor-ev',\n",
    " 'mahindra-xuv400',\n",
    " 'mahindra-scorpio-classic',\n",
    " 'maruti-suzuki-jimny',\n",
    " 'hyundai-exter',\n",
    " 'tata-harrier',\n",
    " 'kia-carens',\n",
    " 'mg-hector',\n",
    " 'mg-gloster',\n",
    " 'hyundai-verna',\n",
    " 'kia-seltos',\n",
    " 'mg-astor',\n",
    " 'mg-hector-plus',\n",
    " 'mg-zs-ev',\n",
    " 'skoda-kushaq',\n",
    " 'kia-sonet',\n",
    " 'toyota-innova-hycross',\n",
    " 'skoda-slavia',\n",
    " 'volkswagen-virtus']"
   ]
  },
  {
   "cell_type": "code",
   "execution_count": 106,
   "id": "0bb07d5b",
   "metadata": {},
   "outputs": [
    {
     "data": {
      "text/plain": [
       "['5',\n",
       " '5',\n",
       " '5',\n",
       " '5',\n",
       " '5',\n",
       " '5',\n",
       " '5',\n",
       " '5',\n",
       " '5',\n",
       " '5',\n",
       " '5',\n",
       " '5',\n",
       " '5',\n",
       " '5',\n",
       " '5',\n",
       " '5',\n",
       " '5',\n",
       " '7',\n",
       " '5',\n",
       " '7',\n",
       " '5',\n",
       " '5',\n",
       " '5',\n",
       " '5',\n",
       " '5',\n",
       " '7',\n",
       " '6',\n",
       " '5',\n",
       " '5',\n",
       " '5',\n",
       " '5',\n",
       " '5',\n",
       " '5',\n",
       " '5',\n",
       " '5',\n",
       " '8',\n",
       " '7',\n",
       " '5',\n",
       " '5',\n",
       " '7',\n",
       " '5',\n",
       " '5',\n",
       " '5',\n",
       " '5',\n",
       " '5',\n",
       " '7',\n",
       " '4',\n",
       " '5',\n",
       " '6',\n",
       " '5',\n",
       " '5',\n",
       " '5',\n",
       " '5',\n",
       " '5',\n",
       " '7',\n",
       " '5',\n",
       " '5',\n",
       " '5',\n",
       " '7',\n",
       " '5',\n",
       " '5',\n",
       " '5',\n",
       " '6',\n",
       " '5']"
      ]
     },
     "execution_count": 106,
     "metadata": {},
     "output_type": "execute_result"
    }
   ],
   "source": [
    "seater"
   ]
  },
  {
   "cell_type": "code",
   "execution_count": 107,
   "id": "c01951ff",
   "metadata": {},
   "outputs": [
    {
     "data": {
      "text/plain": [
       "['SUV',\n",
       " 'Hatchback',\n",
       " 'SUV',\n",
       " 'Hatchback',\n",
       " 'Sedan',\n",
       " 'Hatchback',\n",
       " 'Hatchback',\n",
       " 'Hatchback',\n",
       " 'Hatchback',\n",
       " 'Hatchback',\n",
       " 'Sedan',\n",
       " 'Hatchback',\n",
       " 'Sedan',\n",
       " 'Sedan',\n",
       " 'SUV',\n",
       " 'Sedan',\n",
       " 'SUV',\n",
       " 'MPV/MUV',\n",
       " 'Hatchback',\n",
       " 'SUV',\n",
       " 'Sedan',\n",
       " 'SUV',\n",
       " 'Hatchback',\n",
       " 'Hatchback',\n",
       " 'SUV',\n",
       " 'SUV',\n",
       " 'SUV',\n",
       " 'SUV',\n",
       " 'SUV',\n",
       " 'SUV',\n",
       " 'SUV',\n",
       " 'Hatchback',\n",
       " 'SUV',\n",
       " 'SUV',\n",
       " 'Hatchback',\n",
       " 'MPV/MUV',\n",
       " 'SUV',\n",
       " 'Hatchback',\n",
       " 'SUV',\n",
       " 'SUV',\n",
       " 'Minivan/Van',\n",
       " 'SUV',\n",
       " 'Convertible',\n",
       " 'SUV',\n",
       " 'SUV',\n",
       " 'SUV',\n",
       " 'SUV',\n",
       " 'SUV',\n",
       " 'SUV',\n",
       " 'SUV',\n",
       " 'SUV',\n",
       " 'SUV',\n",
       " 'Sedan',\n",
       " 'SUV',\n",
       " 'SUV',\n",
       " 'SUV',\n",
       " 'SUV',\n",
       " 'Sedan',\n",
       " 'SUV',\n",
       " 'SUV',\n",
       " 'SUV',\n",
       " 'SUV',\n",
       " 'SUV',\n",
       " 'SUV']"
      ]
     },
     "execution_count": 107,
     "metadata": {},
     "output_type": "execute_result"
    }
   ],
   "source": [
    "Type"
   ]
  },
  {
   "cell_type": "code",
   "execution_count": 108,
   "id": "a0635a8f",
   "metadata": {},
   "outputs": [
    {
     "data": {
      "text/plain": [
       "['Tata',\n",
       " 'Maruti',\n",
       " 'Tata',\n",
       " 'Hyundai',\n",
       " 'Hyundai',\n",
       " 'Maruti',\n",
       " 'Hyundai',\n",
       " 'Maruti',\n",
       " 'Tata',\n",
       " 'Tata',\n",
       " 'Tata',\n",
       " 'Maruti',\n",
       " 'Maruti',\n",
       " 'Honda',\n",
       " 'Hyundai',\n",
       " 'Maruti',\n",
       " 'Renault',\n",
       " 'Renault',\n",
       " 'Renault',\n",
       " 'Hyundai',\n",
       " 'Honda',\n",
       " 'Tata',\n",
       " 'Hyundai',\n",
       " 'Toyota',\n",
       " 'Nissan',\n",
       " 'Maruti',\n",
       " 'Maruti',\n",
       " 'Tata',\n",
       " 'Hyundai',\n",
       " 'Maruti',\n",
       " 'Maruti',\n",
       " 'Maruti',\n",
       " 'Hyundai',\n",
       " 'Maruti',\n",
       " 'Tata',\n",
       " 'Mahindra',\n",
       " 'Mahindra',\n",
       " 'Tata',\n",
       " 'Hyundai',\n",
       " 'Mahindra',\n",
       " 'Maruti',\n",
       " 'Mahindra',\n",
       " 'Tata',\n",
       " 'Kia',\n",
       " 'Mahindra',\n",
       " 'Mahindra',\n",
       " 'Maruti',\n",
       " 'Citroen',\n",
       " 'MG',\n",
       " 'Hyundai',\n",
       " 'Tata',\n",
       " 'MG',\n",
       " 'Hyundai',\n",
       " 'Kia',\n",
       " 'Kia',\n",
       " 'Citroen',\n",
       " 'Skoda',\n",
       " 'Skoda',\n",
       " 'Skoda',\n",
       " 'Citroen',\n",
       " 'MG',\n",
       " 'MG',\n",
       " 'MG',\n",
       " 'Maruti']"
      ]
     },
     "execution_count": 108,
     "metadata": {},
     "output_type": "execute_result"
    }
   ],
   "source": [
    "brand"
   ]
  },
  {
   "cell_type": "code",
   "execution_count": null,
   "id": "6c7bdcde",
   "metadata": {},
   "outputs": [],
   "source": []
  },
  {
   "cell_type": "code",
   "execution_count": 3,
   "id": "166416cd",
   "metadata": {},
   "outputs": [
    {
     "data": {
      "text/plain": [
       "['tata-nexon',\n",
       " 'maruti-suzuki-baleno',\n",
       " 'tata-punch',\n",
       " 'hyundai-grand-i10-nios',\n",
       " 'hyundai-aura',\n",
       " 'maruti-suzuki-wagon-r',\n",
       " 'hyundai-new-i20',\n",
       " 'maruti-suzuki-swift',\n",
       " 'tata-tigor',\n",
       " 'tata-altroz',\n",
       " 'tata-tiago',\n",
       " 'hyundai-venue',\n",
       " 'hyundai-creta',\n",
       " 'maruti-suzuki-celerio',\n",
       " 'hyundai-alcazar',\n",
       " 'hyundai-i20-n-line',\n",
       " 'maruti-suzuki-dzire',\n",
       " 'maruti-suzuki-s-presso',\n",
       " 'nissan-magnite',\n",
       " 'maruti-suzuki-brezza',\n",
       " 'maruti-suzuki-brezza',\n",
       " 'skoda-kodiaq',\n",
       " 'honda-amaze',\n",
       " 'honda-city',\n",
       " 'maruti-suzuki-ignis',\n",
       " 'maruti-suzuki-xl6',\n",
       " 'maruti-suzuki-ertiga',\n",
       " 'maruti-suzuki-ciaz',\n",
       " 'tata-nexon-ev-prime',\n",
       " 'tata-tiago-nrg',\n",
       " 'maruti-suzuki-new-grand-vitara',\n",
       " 'tata-nexon-ev-max',\n",
       " 'maruti-suzuki-alto-k10',\n",
       " 'mahindra-marazzo',\n",
       " 'mahindra-bolero',\n",
       " 'mahindra-scorpio-n',\n",
       " 'mahindra-xuv700',\n",
       " 'mahindra-xuv300',\n",
       " 'toyota-urban-cruiser-hyryder',\n",
       " 'toyota-glanza',\n",
       " 'hyundai-tucson',\n",
       " 'tata-tiago-ev',\n",
       " 'tata-tigor-ev',\n",
       " 'mahindra-xuv400',\n",
       " 'mahindra-scorpio-classic',\n",
       " 'maruti-suzuki-jimny',\n",
       " 'hyundai-exter',\n",
       " 'tata-harrier',\n",
       " 'kia-carens',\n",
       " 'mg-hector',\n",
       " 'mg-gloster',\n",
       " 'hyundai-verna',\n",
       " 'kia-seltos',\n",
       " 'mg-astor',\n",
       " 'mg-hector-plus',\n",
       " 'mg-zs-ev',\n",
       " 'skoda-kushaq',\n",
       " 'kia-sonet',\n",
       " 'toyota-innova-hycross',\n",
       " 'skoda-slavia',\n",
       " 'volkswagen-virtus']"
      ]
     },
     "execution_count": 3,
     "metadata": {},
     "output_type": "execute_result"
    }
   ],
   "source": [
    "cars"
   ]
  },
  {
   "cell_type": "code",
   "execution_count": 19,
   "id": "e12f51e0",
   "metadata": {},
   "outputs": [],
   "source": [
    "car2 = ['tata-nexon',\n",
    " 'maruti-suzuki-baleno',\n",
    " 'tata-punch',\n",
    " 'hyundai-grand-i10-nios',\n",
    " 'hyundai-aura',\n",
    " 'maruti-suzuki-wagon-r',\n",
    " 'hyundai-new-i20',\n",
    " 'maruti-suzuki-swift',\n",
    " 'tata-tigor',\n",
    " 'tata-altroz',\n",
    " 'tata-tiago',\n",
    " 'hyundai-venue',\n",
    " 'hyundai-creta',\n",
    " 'maruti-suzuki-celerio',\n",
    " 'hyundai-alcazar',\n",
    " 'hyundai-i20-n-line',\n",
    " 'maruti-suzuki-dzire',\n",
    " 'maruti-suzuki-s-presso',\n",
    " 'nissan-magnite',\n",
    " 'maruti-suzuki-brezza',\n",
    " 'maruti-suzuki-brezza',\n",
    " 'skoda-kodiaq',\n",
    " 'honda-amaze']"
   ]
  },
  {
   "cell_type": "code",
   "execution_count": 64,
   "id": "5a6a67ad",
   "metadata": {},
   "outputs": [],
   "source": [
    "car = ['tata-nexon',\n",
    " 'maruti-suzuki-baleno','honda-amaze'\n",
    " ]"
   ]
  },
  {
   "cell_type": "code",
   "execution_count": null,
   "id": "ef84e9c6",
   "metadata": {},
   "outputs": [],
   "source": [
    "brand=[]\n",
    "Type = []\n",
    "seater =[]\n",
    "transmission = []\n",
    "fuel_type =[]\n",
    "price =[]\n",
    "model=[]\n",
    "color =[]"
   ]
  },
  {
   "cell_type": "code",
   "execution_count": 245,
   "id": "8057441a",
   "metadata": {},
   "outputs": [],
   "source": [
    "variants =[]\n",
    "price =[]\n",
    "brand =[]\n",
    "seater =[]\n",
    "model =[]\n",
    "fuel_type =[]\n",
    "engine =[]\n",
    "transmission =[]\n",
    "\n",
    "for i in cars:\n",
    "    url = f\"https://ackodrive.com/cars/{i}/\"\n",
    "    page = requests.get(url)\n",
    "    soup = BeautifulSoup(page.text)\n",
    "    \n",
    "    \n",
    "    count = 0\n",
    "    for j in soup.find_all(\"h4\",class_=\"styles__VariantTitle-sc-ff1d2337-10 jrtfkd\"):\n",
    "        a = j.text\n",
    "        count = count+1\n",
    "        if a:\n",
    "            variants.append(a)\n",
    "        else:\n",
    "            variants.append(np.nan)\n",
    "    \n",
    "    for k in range(count):\n",
    "        a = soup.find(\"h1\",class_=\"styles__MakeModelName-sc-3b7b7e29-1 iAQYbS\")\n",
    "        if a:\n",
    "            brand.append(a.text)\n",
    "        else:\n",
    "            brand.append(np.nan)\n",
    "            \n",
    "    b = []\n",
    "    for i in soup.find_all(\"div\",class_=\"styles__Specs-sc-395b97e7-4 kjgGbG\"):\n",
    "      \n",
    "        b.append(i.text.split(\" \")[1])\n",
    "    #print(b)\n",
    "    for k in range(count):\n",
    "        if b:\n",
    "            model.append(b[-1])\n",
    "        else:\n",
    "            model.append(np.nan)\n",
    "            \n",
    "            \n",
    "    c = []\n",
    "    for i in soup.find_all(\"div\",class_=\"styles__Specs-sc-395b97e7-4 kjgGbG\"):\n",
    "      \n",
    "        c.append(i.text.split(\" \")[1])\n",
    "    #print(b)\n",
    "    for k in range(count):\n",
    "        if c:\n",
    "            engine.append(c[1])\n",
    "        else:\n",
    "            engine.append(np.nan)    \n",
    "            \n",
    "    d = []\n",
    "    for i in soup.find_all(\"div\",class_=\"styles__Specs-sc-395b97e7-4 kjgGbG\"):\n",
    "      \n",
    "        d.append(i.text.split(\" \")[1])\n",
    "    #print(b)\n",
    "    for k in range(count):\n",
    "        if d:\n",
    "            seater.append(d[-2])\n",
    "        else:\n",
    "            seater.append(np.nan)      \n",
    " \n",
    "        \n",
    "    for j in soup.find_all(\"div\",class_=\"styles__VariantInfo-sc-ff1d2337-12 ftPSTe\"):\n",
    "        #print(i.text)\n",
    "        regex = re.findall(\"Petrol|Diesel|CNG|Electric\",j.text)\n",
    "        if regex:\n",
    "            fuel_type.append(regex[0])\n",
    "        else:\n",
    "            fuel_type.append(np.nan)    \n",
    "    for j in soup.find_all(\"div\",class_=\"styles__VariantInfo-sc-ff1d2337-12 ftPSTe\"):\n",
    "       # print(i.text)\n",
    "        regex = re.findall(\"(Automatic|Manual)\",j.text)\n",
    "        #print(regex[0])\n",
    "        if regex:\n",
    "            transmission.append(regex[0])\n",
    "        else:\n",
    "            transmission.append(np.nan) \n",
    "   \n",
    "    for j in soup.find_all(\"div\",class_=\"styles__Price-sc-ff1d2337-18 CHHgf\"):\n",
    "        #print(i.text)\n",
    "        regex = re.findall(\"₹(\\d+.?\\d+)\",j.text)\n",
    "       # print(regex[0])\n",
    "        if regex:\n",
    "            price.append(regex[0])\n",
    "        else:\n",
    "            price.append(np.nan)        "
   ]
  },
  {
   "cell_type": "code",
   "execution_count": 246,
   "id": "922578e2",
   "metadata": {},
   "outputs": [],
   "source": [
    "#variants"
   ]
  },
  {
   "cell_type": "code",
   "execution_count": 247,
   "id": "9f7df8db",
   "metadata": {},
   "outputs": [
    {
     "data": {
      "text/plain": [
       "64"
      ]
     },
     "execution_count": 247,
     "metadata": {},
     "output_type": "execute_result"
    }
   ],
   "source": [
    "len(variants)"
   ]
  },
  {
   "cell_type": "code",
   "execution_count": 248,
   "id": "1243e836",
   "metadata": {},
   "outputs": [],
   "source": [
    "#brand"
   ]
  },
  {
   "cell_type": "code",
   "execution_count": 249,
   "id": "8f048101",
   "metadata": {},
   "outputs": [
    {
     "data": {
      "text/plain": [
       "64"
      ]
     },
     "execution_count": 249,
     "metadata": {},
     "output_type": "execute_result"
    }
   ],
   "source": [
    "len(brand)"
   ]
  },
  {
   "cell_type": "code",
   "execution_count": 250,
   "id": "a6127d0a",
   "metadata": {},
   "outputs": [
    {
     "data": {
      "text/plain": [
       "64"
      ]
     },
     "execution_count": 250,
     "metadata": {},
     "output_type": "execute_result"
    }
   ],
   "source": [
    "len(model)"
   ]
  },
  {
   "cell_type": "code",
   "execution_count": 251,
   "id": "e09ddc65",
   "metadata": {},
   "outputs": [
    {
     "data": {
      "text/plain": [
       "64"
      ]
     },
     "execution_count": 251,
     "metadata": {},
     "output_type": "execute_result"
    }
   ],
   "source": [
    "len(seater)"
   ]
  },
  {
   "cell_type": "code",
   "execution_count": 252,
   "id": "40c5ee99",
   "metadata": {},
   "outputs": [
    {
     "data": {
      "text/plain": [
       "64"
      ]
     },
     "execution_count": 252,
     "metadata": {},
     "output_type": "execute_result"
    }
   ],
   "source": [
    "len(engine)"
   ]
  },
  {
   "cell_type": "code",
   "execution_count": 253,
   "id": "07d711e0",
   "metadata": {},
   "outputs": [
    {
     "data": {
      "text/plain": [
       "64"
      ]
     },
     "execution_count": 253,
     "metadata": {},
     "output_type": "execute_result"
    }
   ],
   "source": [
    "len(price)"
   ]
  },
  {
   "cell_type": "code",
   "execution_count": 254,
   "id": "9ba3ff20",
   "metadata": {},
   "outputs": [
    {
     "data": {
      "text/plain": [
       "64"
      ]
     },
     "execution_count": 254,
     "metadata": {},
     "output_type": "execute_result"
    }
   ],
   "source": [
    "len(transmission)"
   ]
  },
  {
   "cell_type": "code",
   "execution_count": 255,
   "id": "d5c1a1a6",
   "metadata": {},
   "outputs": [
    {
     "data": {
      "text/plain": [
       "64"
      ]
     },
     "execution_count": 255,
     "metadata": {},
     "output_type": "execute_result"
    }
   ],
   "source": [
    "len(fuel_type)"
   ]
  },
  {
   "cell_type": "code",
   "execution_count": 212,
   "id": "027fabe5",
   "metadata": {},
   "outputs": [
    {
     "data": {
      "text/plain": [
       "['SUV',\n",
       " 'SUV',\n",
       " 'SUV',\n",
       " 'SUV',\n",
       " 'SUV',\n",
       " 'SUV',\n",
       " 'SUV',\n",
       " 'SUV',\n",
       " 'SUV',\n",
       " 'SUV',\n",
       " 'SUV',\n",
       " 'SUV',\n",
       " 'SUV',\n",
       " 'SUV',\n",
       " 'SUV',\n",
       " 'SUV',\n",
       " 'SUV',\n",
       " 'SUV',\n",
       " 'SUV',\n",
       " 'SUV',\n",
       " 'SUV',\n",
       " 'SUV',\n",
       " 'SUV',\n",
       " 'SUV',\n",
       " 'SUV',\n",
       " 'SUV',\n",
       " 'SUV',\n",
       " 'SUV',\n",
       " 'SUV',\n",
       " 'SUV',\n",
       " 'SUV',\n",
       " 'SUV',\n",
       " 'SUV',\n",
       " 'SUV',\n",
       " 'SUV',\n",
       " 'SUV',\n",
       " 'SUV',\n",
       " 'SUV',\n",
       " 'SUV',\n",
       " 'SUV',\n",
       " 'SUV',\n",
       " 'SUV',\n",
       " 'SUV',\n",
       " 'SUV',\n",
       " 'SUV',\n",
       " 'SUV',\n",
       " 'SUV',\n",
       " 'SUV',\n",
       " 'SUV',\n",
       " 'SUV',\n",
       " 'Hatchback',\n",
       " 'Hatchback',\n",
       " 'Hatchback',\n",
       " 'Hatchback',\n",
       " 'Hatchback',\n",
       " 'Hatchback',\n",
       " 'Hatchback',\n",
       " 'Hatchback',\n",
       " 'Hatchback',\n",
       " 'Sedan',\n",
       " 'Sedan',\n",
       " 'Sedan',\n",
       " 'Sedan',\n",
       " 'Sedan']"
      ]
     },
     "execution_count": 212,
     "metadata": {},
     "output_type": "execute_result"
    }
   ],
   "source": [
    "model"
   ]
  },
  {
   "cell_type": "code",
   "execution_count": 70,
   "id": "5ae276fa",
   "metadata": {},
   "outputs": [
    {
     "data": {
      "text/plain": [
       "['1.2 E MT Petrol',\n",
       " '1.2 S MT Petrol',\n",
       " '1.2 S CVT Petrol',\n",
       " '1.2 VX MT Petrol',\n",
       " '1.2 VX CVT Petrol']"
      ]
     },
     "execution_count": 70,
     "metadata": {},
     "output_type": "execute_result"
    }
   ],
   "source": [
    "variants =[]\n",
    "for i in soup.find_all(\"h4\",class_=\"styles__VariantTitle-sc-ff1d2337-10 jrtfkd\"):\n",
    "    variants.append(i.text)\n",
    "variants  "
   ]
  },
  {
   "cell_type": "code",
   "execution_count": 14,
   "id": "f95d529d",
   "metadata": {},
   "outputs": [
    {
     "data": {
      "text/plain": [
       "['Tata Tigor']"
      ]
     },
     "execution_count": 14,
     "metadata": {},
     "output_type": "execute_result"
    }
   ],
   "source": [
    "brand = []\n",
    "for i in soup.find_all(\"h1\",class_=\"styles__MakeModelName-sc-3b7b7e29-1 iAQYbS\"):\n",
    "    brand.append(i.text)\n",
    "brand    "
   ]
  },
  {
   "cell_type": "code",
   "execution_count": 224,
   "id": "1d55c347",
   "metadata": {},
   "outputs": [],
   "source": [
    "fuel_type = []\n",
    "for i in soup.find_all(\"p\",class_=\"styles__ParaWithoutMargins-sc-ff1d2337-33 cvFhPe\"):\n",
    "        #print(i.text)\n",
    "        regex = re.findall(\"Petrol|Diesel|CNG|Electric{2}\",i.text)\n",
    "        if regex:\n",
    "            fuel_type.append(regex[0])\n",
    "        else:\n",
    "            fuel_type.append(np.nan)"
   ]
  },
  {
   "cell_type": "code",
   "execution_count": 225,
   "id": "604e84b7",
   "metadata": {},
   "outputs": [
    {
     "data": {
      "text/plain": [
       "[nan,\n",
       " nan,\n",
       " 'Petrol',\n",
       " nan,\n",
       " 'Petrol',\n",
       " nan,\n",
       " 'Petrol',\n",
       " nan,\n",
       " 'Petrol',\n",
       " nan,\n",
       " 'Petrol',\n",
       " nan]"
      ]
     },
     "execution_count": 225,
     "metadata": {},
     "output_type": "execute_result"
    }
   ],
   "source": [
    "fuel_type"
   ]
  },
  {
   "cell_type": "code",
   "execution_count": 218,
   "id": "08eaa735",
   "metadata": {},
   "outputs": [
    {
     "data": {
      "text/plain": [
       "12"
      ]
     },
     "execution_count": 218,
     "metadata": {},
     "output_type": "execute_result"
    }
   ],
   "source": [
    "len(fuel_type)"
   ]
  },
  {
   "cell_type": "code",
   "execution_count": 41,
   "id": "f71ee879",
   "metadata": {},
   "outputs": [],
   "source": [
    "transmission = []\n",
    "for i in soup.find_all(\"div\",class_=\"styles__VariantInfo-sc-ff1d2337-12 ftPSTe\"):\n",
    "       # print(i.text)\n",
    "    regex = re.findall(\"(Automatic|Manual)\",i.text)\n",
    "    #print(regex[0])\n",
    "    if regex:\n",
    "         transmission.append(regex[0])\n",
    "    else:\n",
    "         transmission.append(np.nan) "
   ]
  },
  {
   "cell_type": "code",
   "execution_count": 48,
   "id": "651f91b9",
   "metadata": {},
   "outputs": [
    {
     "data": {
      "text/plain": [
       "['Manual',\n",
       " 'Manual',\n",
       " 'Manual',\n",
       " 'Automatic',\n",
       " 'Manual',\n",
       " 'Manual',\n",
       " 'Automatic',\n",
       " 'Automatic',\n",
       " 'Manual',\n",
       " 'Manual',\n",
       " 'Manual',\n",
       " 'Automatic',\n",
       " 'Manual',\n",
       " 'Automatic',\n",
       " 'Automatic',\n",
       " 'Manual',\n",
       " 'Manual',\n",
       " 'Manual',\n",
       " 'Automatic',\n",
       " 'Manual',\n",
       " 'Manual',\n",
       " 'Manual',\n",
       " 'Automatic',\n",
       " 'Manual',\n",
       " 'Automatic',\n",
       " 'Automatic',\n",
       " 'Manual',\n",
       " 'Manual',\n",
       " 'Manual',\n",
       " 'Automatic',\n",
       " 'Automatic',\n",
       " 'Automatic',\n",
       " 'Automatic',\n",
       " 'Manual',\n",
       " 'Automatic',\n",
       " 'Automatic',\n",
       " 'Automatic',\n",
       " 'Manual',\n",
       " 'Manual',\n",
       " 'Manual',\n",
       " 'Manual',\n",
       " 'Manual',\n",
       " 'Automatic',\n",
       " 'Manual',\n",
       " 'Manual',\n",
       " 'Automatic',\n",
       " 'Automatic',\n",
       " 'Automatic',\n",
       " 'Automatic',\n",
       " 'Automatic',\n",
       " 'Manual',\n",
       " 'Manual',\n",
       " 'Automatic',\n",
       " 'Manual',\n",
       " 'Manual',\n",
       " 'Automatic',\n",
       " 'Manual',\n",
       " 'Manual',\n",
       " 'Automatic',\n",
       " 'Manual',\n",
       " 'Manual',\n",
       " 'Manual',\n",
       " 'Manual',\n",
       " 'Manual',\n",
       " 'Manual',\n",
       " 'Manual',\n",
       " 'Automatic',\n",
       " 'Automatic',\n",
       " 'Manual',\n",
       " 'Manual',\n",
       " 'Automatic',\n",
       " 'Manual',\n",
       " 'Automatic',\n",
       " 'Manual',\n",
       " 'Manual',\n",
       " 'Manual',\n",
       " 'Manual',\n",
       " 'Automatic',\n",
       " 'Automatic',\n",
       " 'Manual',\n",
       " 'Manual',\n",
       " 'Automatic',\n",
       " 'Automatic',\n",
       " 'Automatic',\n",
       " 'Manual',\n",
       " 'Manual',\n",
       " 'Manual',\n",
       " 'Automatic',\n",
       " 'Automatic',\n",
       " 'Manual',\n",
       " 'Automatic',\n",
       " 'Manual',\n",
       " 'Automatic',\n",
       " 'Automatic',\n",
       " 'Manual',\n",
       " 'Manual',\n",
       " 'Manual',\n",
       " 'Manual',\n",
       " 'Automatic',\n",
       " 'Manual',\n",
       " 'Manual',\n",
       " 'Automatic',\n",
       " 'Automatic',\n",
       " 'Manual',\n",
       " 'Automatic',\n",
       " 'Manual',\n",
       " 'Manual',\n",
       " 'Manual',\n",
       " 'Manual',\n",
       " 'Manual',\n",
       " 'Automatic',\n",
       " 'Manual',\n",
       " 'Manual',\n",
       " 'Manual',\n",
       " 'Manual',\n",
       " 'Manual',\n",
       " 'Automatic',\n",
       " 'Manual',\n",
       " 'Manual',\n",
       " 'Automatic',\n",
       " 'Automatic',\n",
       " 'Manual',\n",
       " 'Manual',\n",
       " 'Manual',\n",
       " 'Automatic',\n",
       " 'Manual',\n",
       " 'Automatic',\n",
       " 'Manual',\n",
       " 'Automatic',\n",
       " 'Automatic',\n",
       " 'Manual',\n",
       " 'Manual',\n",
       " 'Automatic',\n",
       " 'Manual',\n",
       " 'Manual',\n",
       " 'Automatic',\n",
       " 'Manual',\n",
       " 'Manual',\n",
       " 'Automatic',\n",
       " 'Manual',\n",
       " 'Manual',\n",
       " 'Manual',\n",
       " 'Automatic',\n",
       " 'Manual',\n",
       " 'Manual',\n",
       " 'Manual',\n",
       " 'Manual',\n",
       " 'Manual',\n",
       " 'Manual',\n",
       " 'Automatic',\n",
       " 'Automatic',\n",
       " 'Manual',\n",
       " 'Manual',\n",
       " 'Manual',\n",
       " 'Manual']"
      ]
     },
     "execution_count": 48,
     "metadata": {},
     "output_type": "execute_result"
    }
   ],
   "source": [
    "transmission "
   ]
  },
  {
   "cell_type": "code",
   "execution_count": 49,
   "id": "f1170084",
   "metadata": {},
   "outputs": [
    {
     "data": {
      "text/plain": [
       "155"
      ]
     },
     "execution_count": 49,
     "metadata": {},
     "output_type": "execute_result"
    }
   ],
   "source": [
    "len(transmission)"
   ]
  },
  {
   "cell_type": "code",
   "execution_count": 107,
   "id": "d3ac6efe",
   "metadata": {},
   "outputs": [],
   "source": [
    "b=[]"
   ]
  },
  {
   "cell_type": "code",
   "execution_count": 203,
   "id": "7f128d69",
   "metadata": {},
   "outputs": [
    {
     "name": "stdout",
     "output_type": "stream",
     "text": [
      "Petrol\n",
      "1199\n",
      "Automatic,\n",
      "2023\n",
      "5\n",
      "Sedan\n"
     ]
    }
   ],
   "source": [
    "b=[]\n",
    "for i in soup.find_all(\"div\",class_=\"styles__Specs-sc-395b97e7-4 kjgGbG\"):\n",
    "    print(i.text.split(\" \")[1])\n",
    "    b.append(i.text.split(\" \")[1])"
   ]
  },
  {
   "cell_type": "code",
   "execution_count": null,
   "id": "cd4df1ae",
   "metadata": {},
   "outputs": [],
   "source": [
    "output = []\n",
    "for i in stringer:\n",
    "    splitted = [x for x in i.split() if x != '']\n",
    "    output.append(splitted[2])"
   ]
  },
  {
   "cell_type": "code",
   "execution_count": 114,
   "id": "ad38581c",
   "metadata": {},
   "outputs": [
    {
     "data": {
      "text/plain": [
       "['Petrol', '1199', 'Automatic,', '2023', '5', 'Sedan']"
      ]
     },
     "execution_count": 114,
     "metadata": {},
     "output_type": "execute_result"
    }
   ],
   "source": [
    "b"
   ]
  },
  {
   "cell_type": "code",
   "execution_count": 71,
   "id": "52b83911",
   "metadata": {},
   "outputs": [
    {
     "data": {
      "text/plain": [
       "['9.01',\n",
       " '10.06',\n",
       " '10.72',\n",
       " '10.78',\n",
       " '11.16',\n",
       " '11.33',\n",
       " '11.84',\n",
       " '12.30',\n",
       " '12.35',\n",
       " '12.69',\n",
       " '12.74',\n",
       " '13.09',\n",
       " '13.21',\n",
       " '13.43',\n",
       " '13.49',\n",
       " '13.49',\n",
       " '13.55',\n",
       " '13.60',\n",
       " '13.94',\n",
       " '13.94',\n",
       " '14.17',\n",
       " '14.17',\n",
       " '14.19',\n",
       " '14.25',\n",
       " '14.28',\n",
       " '14.34',\n",
       " '14.40',\n",
       " '14.46',\n",
       " '14.59',\n",
       " '14.68',\n",
       " '14.91',\n",
       " '14.91',\n",
       " '15.00',\n",
       " '15.12',\n",
       " '15.14',\n",
       " '15.19',\n",
       " '15.35',\n",
       " '15.47',\n",
       " '15.52',\n",
       " '15.87',\n",
       " '16.10',\n",
       " '16.10',\n",
       " '16.28',\n",
       " '16.34',\n",
       " '16.39',\n",
       " '16.63',\n",
       " '16.86',\n",
       " '16.86',\n",
       " '17.09',\n",
       " '17.15',\n",
       " '7.42',\n",
       " '8.35',\n",
       " '8.96',\n",
       " '9.43',\n",
       " '9.45',\n",
       " '10.06',\n",
       " '10.44',\n",
       " '10.50',\n",
       " '11.11',\n",
       " '6.60',\n",
       " '7.16',\n",
       " '7.76',\n",
       " '7.87',\n",
       " '8.03',\n",
       " '8.15',\n",
       " '8.26',\n",
       " '8.42',\n",
       " '8.53',\n",
       " '8.69',\n",
       " '8.75',\n",
       " '8.80',\n",
       " '8.86',\n",
       " '8.91',\n",
       " '9.13',\n",
       " '9.16',\n",
       " '9.24',\n",
       " '9.24',\n",
       " '9.35',\n",
       " '9.41',\n",
       " '9.54',\n",
       " '9.68',\n",
       " '9.79',\n",
       " '9.82',\n",
       " '9.90',\n",
       " '9.96',\n",
       " '9.98',\n",
       " '10.28',\n",
       " '10.34',\n",
       " '10.45',\n",
       " '10.61',\n",
       " '10.63',\n",
       " '10.87',\n",
       " '10.94',\n",
       " '11.67',\n",
       " '6.11',\n",
       " '7.27',\n",
       " '7.89',\n",
       " '7.93',\n",
       " '8.29',\n",
       " '8.33',\n",
       " '8.73',\n",
       " '8.82',\n",
       " '8.86',\n",
       " '8.94',\n",
       " '9.66',\n",
       " '7.14',\n",
       " '8.08',\n",
       " '8.94',\n",
       " '9.04',\n",
       " '9.67',\n",
       " '9.83',\n",
       " '9.89',\n",
       " '5.92',\n",
       " '6.40',\n",
       " '6.95',\n",
       " '7.03',\n",
       " '7.29',\n",
       " '7.47',\n",
       " '7.52',\n",
       " '7.64',\n",
       " '8.16',\n",
       " '8.39',\n",
       " '8.97',\n",
       " '10.14',\n",
       " '10.27',\n",
       " '10.96',\n",
       " '11.53',\n",
       " '11.70',\n",
       " '12.54',\n",
       " '13.33',\n",
       " '6.45',\n",
       " '7.68',\n",
       " '8.29',\n",
       " '8.43',\n",
       " '8.68',\n",
       " '9.03',\n",
       " '9.36',\n",
       " '9.43',\n",
       " '9.82',\n",
       " '6.94',\n",
       " '7.55',\n",
       " '7.99',\n",
       " '8.21',\n",
       " '8.55',\n",
       " '8.70',\n",
       " '8.80',\n",
       " '8.81',\n",
       " '8.99',\n",
       " '9.24',\n",
       " '9.36',\n",
       " '9.47',\n",
       " '9.70',\n",
       " '9.81',\n",
       " '9.96',\n",
       " '10.07']"
      ]
     },
     "execution_count": 71,
     "metadata": {},
     "output_type": "execute_result"
    }
   ],
   "source": [
    "price"
   ]
  },
  {
   "cell_type": "code",
   "execution_count": 72,
   "id": "2794db60",
   "metadata": {},
   "outputs": [
    {
     "data": {
      "text/plain": [
       "155"
      ]
     },
     "execution_count": 72,
     "metadata": {},
     "output_type": "execute_result"
    }
   ],
   "source": [
    "len(price)"
   ]
  },
  {
   "cell_type": "code",
   "execution_count": 116,
   "id": "caaf73ef",
   "metadata": {},
   "outputs": [
    {
     "data": {
      "text/plain": [
       "'Sedan'"
      ]
     },
     "execution_count": 116,
     "metadata": {},
     "output_type": "execute_result"
    }
   ],
   "source": [
    "b[-1]"
   ]
  },
  {
   "cell_type": "code",
   "execution_count": 242,
   "id": "fed5836e",
   "metadata": {},
   "outputs": [
    {
     "name": "stdout",
     "output_type": "stream",
     "text": [
      "Petrol\n",
      "Petrol\n",
      "Petrol\n",
      "Petrol\n",
      "Petrol\n",
      "Diesel\n",
      "Petrol\n",
      "Petrol\n",
      "Petrol\n",
      "Petrol\n",
      "Diesel\n",
      "Petrol\n",
      "Petrol\n",
      "Petrol\n",
      "Diesel\n",
      "Diesel\n",
      "Petrol\n",
      "Petrol\n",
      "Petrol\n",
      "Petrol\n",
      "Petrol\n",
      "Petrol\n",
      "Diesel\n",
      "Diesel\n",
      "Petrol\n",
      "Petrol\n",
      "Petrol\n",
      "Petrol\n",
      "Diesel\n",
      "Petrol\n",
      "Petrol\n",
      "Petrol\n",
      "Diesel\n",
      "Diesel\n",
      "Petrol\n",
      "Petrol\n",
      "Diesel\n",
      "Diesel\n",
      "Diesel\n",
      "Diesel\n",
      "Diesel\n",
      "Diesel\n",
      "Diesel\n",
      "Diesel\n",
      "Diesel\n",
      "Diesel\n",
      "Diesel\n",
      "Diesel\n",
      "Diesel\n",
      "Diesel\n",
      "Petrol\n",
      "Petrol\n",
      "Petrol\n",
      "CNG\n",
      "Petrol\n",
      "Petrol\n",
      "CNG\n",
      "Petrol\n",
      "Petrol\n",
      "Petrol\n",
      "Petrol\n",
      "Petrol\n",
      "Petrol\n",
      "Petrol\n"
     ]
    }
   ],
   "source": [
    "variants =[]\n",
    "fuel_type = []\n",
    "transmission =[]\n",
    "price =[]\n",
    "\n",
    "brand =[]\n",
    "seater =[]\n",
    "engine =[]\n",
    "model = []\n",
    "c =0\n",
    "\n",
    "for i in car:\n",
    "    url = f\"https://ackodrive.com/cars/{i}/\"\n",
    "    page = requests.get(url)\n",
    "    soup = BeautifulSoup(page.text)\n",
    "    \n",
    "    \n",
    "    count = 0\n",
    "    for j in soup.find_all(\"h4\",class_=\"styles__VariantTitle-sc-ff1d2337-10 jrtfkd\"):\n",
    "        a = j.text\n",
    "        count = count +1\n",
    "        if a:\n",
    "            variants.append(a)\n",
    "        else:\n",
    "            variants.append(np.nan)\n",
    "\n",
    "    for i in soup.find_all(\"div\",class_=\"styles__VariantInfo-sc-ff1d2337-12 ftPSTe\"):\n",
    "           # print(i.text)\n",
    "            regex = re.findall(\"Petrol|Diesel|CNG|Electric\",i.text)\n",
    "            print(regex[0])\n",
    "\n",
    "        \n",
    "        \n",
    "        "
   ]
  },
  {
   "cell_type": "code",
   "execution_count": 243,
   "id": "28fd3157",
   "metadata": {},
   "outputs": [
    {
     "data": {
      "text/plain": [
       "64"
      ]
     },
     "execution_count": 243,
     "metadata": {},
     "output_type": "execute_result"
    }
   ],
   "source": [
    "len(variants)"
   ]
  },
  {
   "cell_type": "code",
   "execution_count": 244,
   "id": "c8a1dab0",
   "metadata": {},
   "outputs": [
    {
     "data": {
      "text/plain": [
       "0"
      ]
     },
     "execution_count": 244,
     "metadata": {},
     "output_type": "execute_result"
    }
   ],
   "source": [
    "len(fuel_type)"
   ]
  },
  {
   "cell_type": "code",
   "execution_count": null,
   "id": "764ae0fa",
   "metadata": {},
   "outputs": [],
   "source": []
  }
 ],
 "metadata": {
  "kernelspec": {
   "display_name": "Python 3 (ipykernel)",
   "language": "python",
   "name": "python3"
  },
  "language_info": {
   "codemirror_mode": {
    "name": "ipython",
    "version": 3
   },
   "file_extension": ".py",
   "mimetype": "text/x-python",
   "name": "python",
   "nbconvert_exporter": "python",
   "pygments_lexer": "ipython3",
   "version": "3.11.3"
  }
 },
 "nbformat": 4,
 "nbformat_minor": 5
}
